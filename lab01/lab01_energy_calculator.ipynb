{
 "cells": [
  {
   "cell_type": "markdown",
   "metadata": {},
   "source": [
    "# CE 49X - Lab 01: Building Energy Calculator\n",
    "\n",
    "**Student Name:** _____Özgür Cemal Özer___________  \n",
    "**Student ID:** ____2021403024____________  \n",
    "**Date:** ____09/10/2025____________\n",
    "\n",
    "---\n",
    "\n",
    "## Introduction\n",
    "\n",
    "Welcome to Lab 1! In this lab, you'll analyze building energy consumption using Python. Energy efficiency is crucial in civil engineering - buildings consume about 40% of global energy!\n",
    "\n",
    "You'll work with:\n",
    "- Variables and data types\n",
    "- Lists and dictionaries\n",
    "- Loops and conditionals\n",
    "- Functions\n",
    "- String formatting\n",
    "\n",
    "**Important:** Read the PDF instructions (`lab01_instructions.pdf`) for complete details!\n",
    "\n",
    "---"
   ]
  },
  {
   "cell_type": "markdown",
   "metadata": {},
   "source": [
    "## Exercise 1: Energy Consumption Basics (20 points)\n",
    "\n",
    "### Part A: Daily Energy Calculation (8 points)\n",
    "\n",
    "A commercial building has the following daily energy consumption:\n",
    "- Lighting: 450 kWh\n",
    "- HVAC: 1200 kWh\n",
    "- Equipment: 350 kWh\n",
    "- Other: 180 kWh\n",
    "\n",
    "**Tasks:**\n",
    "1. Create variables for each energy component\n",
    "2. Calculate total daily energy consumption\n",
    "3. Calculate monthly consumption (30 days)\n",
    "4. Print results with f-strings"
   ]
  },
  {
   "cell_type": "code",
   "execution_count": 3,
   "metadata": {},
   "outputs": [
    {
     "name": "stdout",
     "output_type": "stream",
     "text": [
      "Daily Energy Consumption:\n",
      " Lighting: 450.00 kWh\n",
      " HVAC: 1200.00 kWh\n",
      " Equipment: 350.00 kWh\n",
      " Other: 180.00 kWh\n",
      " Total Daily Consumption: 2180.00 kWh\n",
      "\n",
      "Monthly Consumption: 65400.00 kWh\n"
     ]
    }
   ],
   "source": [
    "# Exercise 1A: Daily Energy Calculation\n",
    "\n",
    "# TODO: Create variables for each energy component\n",
    "lighting = 450  #kWh\n",
    "hvac = 1200  #kWh\n",
    "equipment = 350  #kWh\n",
    "other = 180  #kWh\n",
    "\n",
    "# TODO: Calculate total daily consumption\n",
    "daily_total = lighting + hvac + equipment + other  #kWh\n",
    "\n",
    "# TODO: Calculate monthly consumption (30 days)\n",
    "monthly_total = 30 * daily_total  #kWh\n",
    "\n",
    "# TODO: Print results using f-strings\n",
    "print(\"Daily Energy Consumption:\")\n",
    "print(f\" Lighting: {lighting:.2f} kWh\")\n",
    "# Add more print statements here\n",
    "\n",
    "print(f\" HVAC: {hvac:.2f} kWh\")\n",
    "print(f\" Equipment: {equipment:.2f} kWh\")\n",
    "print(f\" Other: {other:.2f} kWh\")\n",
    "print(f\" Total Daily Consumption: {daily_total:.2f} kWh\")\n",
    "\n",
    "print(f\"\\nMonthly Consumption: {monthly_total:.2f} kWh\")\n"
   ]
  },
  {
   "cell_type": "markdown",
   "metadata": {},
   "source": [
    "### Part B: Unit Conversion (6 points)\n",
    "\n",
    "Convert the monthly energy consumption:\n",
    "- From kWh to MJ (1 kWh = 3.6 MJ)\n",
    "- From MJ to GJ (1 GJ = 1000 MJ)"
   ]
  },
  {
   "cell_type": "code",
   "execution_count": 4,
   "metadata": {},
   "outputs": [
    {
     "name": "stdout",
     "output_type": "stream",
     "text": [
      "Monthly Consumption:\n",
      " 65400.00 kWh\n",
      " 235440.00 MJ\n",
      " 235.44 GJ\n"
     ]
    }
   ],
   "source": [
    "# Exercise 1B: Unit Conversion\n",
    "\n",
    "# TODO: Convert monthly consumption to MJ\n",
    "monthly_mj = monthly_total * 3.6\n",
    "\n",
    "# TODO: Convert to GJ\n",
    "monthly_gj = monthly_mj / 1000 \n",
    "\n",
    "# TODO: Print results\n",
    "print(f\"Monthly Consumption:\")\n",
    "print(f\" {monthly_total:.2f} kWh\")\n",
    "# Add more conversions\n",
    "print(f\" {monthly_mj:.2f} MJ\")\n",
    "print(f\" {monthly_gj:.2f} GJ\")"
   ]
  },
  {
   "cell_type": "markdown",
   "metadata": {},
   "source": [
    "### Part C: Cost Calculation (6 points)\n",
    "\n",
    "Calculate costs using standard rate: 0.12 USD/kWh"
   ]
  },
  {
   "cell_type": "code",
   "execution_count": 5,
   "metadata": {},
   "outputs": [
    {
     "name": "stdout",
     "output_type": "stream",
     "text": [
      "Energy Costs:\n",
      " Monthly: $7,848.00\n",
      " Annual:  $94,176.00\n"
     ]
    }
   ],
   "source": [
    "# Exercise 1C: Cost Calculation\n",
    "\n",
    "# TODO: Define the rate\n",
    "standard_rate = 0.12  # USD/kWh\n",
    "\n",
    "# TODO: Calculate monthly cost\n",
    "monthly_cost =  monthly_total * standard_rate\n",
    "\n",
    "# TODO: Calculate annual cost\n",
    "annual_cost = monthly_cost * 12\n",
    "\n",
    "# TODO: Print results formatted as currency\n",
    "print(f\"Energy Costs:\")\n",
    "print(f\" Monthly: ${monthly_cost:,.2f}\")\n",
    "# Add annual cost\n",
    "print(f\" Annual:  ${annual_cost:,.2f}\")"
   ]
  },
  {
   "cell_type": "markdown",
   "metadata": {},
   "source": [
    "---\n",
    "\n",
    "## Exercise 2: Building Energy Analysis (25 points)\n",
    "\n",
    "Analyze energy data for multiple buildings.\n",
    "\n",
    "### Given Data"
   ]
  },
  {
   "cell_type": "code",
   "execution_count": 6,
   "metadata": {},
   "outputs": [],
   "source": [
    "# Given data - DO NOT MODIFY\n",
    "buildings = ['Office A', 'Retail B', 'School C', 'Hospital D', 'Apartment E']\n",
    "monthly_consumption = [85000, 62000, 48000, 125000, 71000]  # kWh\n",
    "floor_area = [2500, 1800, 3200, 4000, 2800]  # m^2"
   ]
  },
  {
   "cell_type": "markdown",
   "metadata": {},
   "source": [
    "### Part A: Energy Intensity Calculation (10 points)\n",
    "\n",
    "Energy Intensity = Monthly Consumption / Floor Area (kWh/m²/month)"
   ]
  },
  {
   "cell_type": "code",
   "execution_count": 8,
   "metadata": {},
   "outputs": [
    {
     "name": "stdout",
     "output_type": "stream",
     "text": [
      "Office A: 85000 kWh / 2500 m^2 = 34.00 kWh/m^2/month\n",
      "Retail B: 62000 kWh / 1800 m^2 = 34.44 kWh/m^2/month\n",
      "School C: 48000 kWh / 3200 m^2 = 15.00 kWh/m^2/month\n",
      "Hospital D: 125000 kWh / 4000 m^2 = 31.25 kWh/m^2/month\n",
      "Apartment E: 71000 kWh / 2800 m^2 = 25.36 kWh/m^2/month\n"
     ]
    }
   ],
   "source": [
    "# Exercise 2A: Energy Intensity\n",
    "\n",
    "# TODO: Create empty list for energy intensity\n",
    "energy_intensity = []\n",
    "\n",
    "# TODO: Use for loop with enumerate to calculate intensity for each building\n",
    "for i, building in enumerate(buildings):\n",
    "    # Calculate intensity\n",
    "    intensity = monthly_consumption[i] / floor_area[i]\n",
    "    \n",
    "    # Add to list\n",
    "    energy_intensity.append(intensity)\n",
    "    \n",
    "    # Print information\n",
    "    print(f\"{building}: {monthly_consumption[i]} kWh / {floor_area[i]} m^2 = {intensity:.2f} kWh/m^2/month\")"
   ]
  },
  {
   "cell_type": "markdown",
   "metadata": {},
   "source": [
    "### Part B: Statistical Analysis (8 points)\n",
    "\n",
    "Calculate statistics for the building dataset."
   ]
  },
  {
   "cell_type": "code",
   "execution_count": 10,
   "metadata": {},
   "outputs": [
    {
     "name": "stdout",
     "output_type": "stream",
     "text": [
      "==================================================\n",
      "Statistical Summary\n",
      "==================================================\n",
      "Total Monthly Consumption: 391,000.00 kWh\n",
      "Average Monthly Consumption: 78,200.00 kWh\n",
      "Maximum Consumption: 125,000.00 kWh\n",
      "Minimum Consumption: 48,000.00 kWh\n"
     ]
    }
   ],
   "source": [
    "# Exercise 2B: Statistical Analysis\n",
    "\n",
    "# TODO: Calculate total consumption\n",
    "total_consumption = sum(monthly_consumption)\n",
    "\n",
    "# TODO: Calculate average consumption\n",
    "average_consumption = total_consumption / len(monthly_consumption)\n",
    "\n",
    "# TODO: Find maximum and minimum\n",
    "max_consumption = max(monthly_consumption)\n",
    "min_consumption = min(monthly_consumption)\n",
    "\n",
    "# TODO: Print summary report\n",
    "print(\"=\" * 50)\n",
    "print(\"Statistical Summary\")\n",
    "print(\"=\" * 50)\n",
    "print(f\"Total Monthly Consumption: {total_consumption:,.2f} kWh\")\n",
    "# Add more statistics\n",
    "print(f\"Average Monthly Consumption: {average_consumption:,.2f} kWh\")\n",
    "print(f\"Maximum Consumption: {max_consumption:,.2f} kWh\")\n",
    "print(f\"Minimum Consumption: {min_consumption:,.2f} kWh\")"
   ]
  },
  {
   "cell_type": "markdown",
   "metadata": {},
   "source": [
    "### Part C: Find Buildings Above Average (7 points)\n",
    "\n",
    "Identify buildings with above-average consumption."
   ]
  },
  {
   "cell_type": "code",
   "execution_count": 11,
   "metadata": {},
   "outputs": [
    {
     "name": "stdout",
     "output_type": "stream",
     "text": [
      "\n",
      "Buildings with above-average consumption:\n",
      "['Office A', 'Hospital D']\n",
      "Count: 2 out of 5 buildings\n"
     ]
    }
   ],
   "source": [
    "# Exercise 2C: Buildings Above Average\n",
    "\n",
    "# TODO: Create list for buildings above average\n",
    "above_average = []\n",
    "\n",
    "# TODO: Use for loop with conditional to find buildings above average\n",
    "for i, building in enumerate(buildings):\n",
    "    if monthly_consumption[i] > average_consumption:\n",
    "        # Add to list\n",
    "        above_average.append(building)\n",
    "\n",
    "# TODO: Print results\n",
    "print(f\"\\nBuildings with above-average consumption:\")\n",
    "print(above_average)\n",
    "print(f\"Count: {len(above_average)} out of {len(buildings)} buildings\")"
   ]
  },
  {
   "cell_type": "markdown",
   "metadata": {},
   "source": [
    "---\n",
    "\n",
    "## Exercise 3: Energy Efficiency Classifier (25 points)\n",
    "\n",
    "Classify buildings based on their annual energy consumption per m².\n",
    "\n",
    "**Efficiency Ratings:**\n",
    "- A: < 50 kWh/m²/year (Excellent)\n",
    "- B: 50-100 kWh/m²/year (Good)\n",
    "- C: 100-150 kWh/m²/year (Average)\n",
    "- D: 150-200 kWh/m²/year (Poor)\n",
    "- F: > 200 kWh/m²/year (Very Poor)\n",
    "\n",
    "### Part A: Annual Energy Calculation (8 points)"
   ]
  },
  {
   "cell_type": "code",
   "execution_count": 12,
   "metadata": {},
   "outputs": [
    {
     "name": "stdout",
     "output_type": "stream",
     "text": [
      "Annual Energy Intensity:\n",
      "Office A: 408.00 kWh/m^2/year\n",
      "Retail B: 413.33 kWh/m^2/year\n",
      "School C: 180.00 kWh/m^2/year\n",
      "Hospital D: 375.00 kWh/m^2/year\n",
      "Apartment E: 304.29 kWh/m^2/year\n"
     ]
    }
   ],
   "source": [
    "# Exercise 3A: Annual Energy Calculation\n",
    "\n",
    "# TODO: Convert monthly intensity to annual (multiply by 12)\n",
    "annual_intensity = []\n",
    "\n",
    "for intensity in energy_intensity:\n",
    "    annual = intensity * 12\n",
    "    annual_intensity.append(annual)\n",
    "\n",
    "# TODO: Print each building with annual intensity\n",
    "print(\"Annual Energy Intensity:\")\n",
    "for i, building in enumerate(buildings):\n",
    "    print(f\"{building}: {annual_intensity[i]:.2f} kWh/m^2/year\")"
   ]
  },
  {
   "cell_type": "markdown",
   "metadata": {},
   "source": [
    "### Part B: Efficiency Classification (12 points)"
   ]
  },
  {
   "cell_type": "code",
   "execution_count": 14,
   "metadata": {},
   "outputs": [
    {
     "name": "stdout",
     "output_type": "stream",
     "text": [
      "\n",
      "============================================================\n",
      "Energy Efficiency Report\n",
      "============================================================\n",
      "Office A: 408.00 kWh/m^2/year - Rating: F\n",
      "Retail B: 413.33 kWh/m^2/year - Rating: F\n",
      "School C: 180.00 kWh/m^2/year - Rating: D\n",
      "Hospital D: 375.00 kWh/m^2/year - Rating: F\n",
      "Apartment E: 304.29 kWh/m^2/year - Rating: F\n"
     ]
    }
   ],
   "source": [
    "# Exercise 3B: Efficiency Classification\n",
    "\n",
    "# TODO: Create list for ratings\n",
    "ratings = []\n",
    "\n",
    "# TODO: Classify each building\n",
    "for i, building in enumerate(buildings):\n",
    "    intensity = annual_intensity[i]\n",
    "    \n",
    "    # Use if/elif/else to assign rating\n",
    "    if intensity < 50:\n",
    "        rating = 'A'\n",
    "    elif intensity < 100:\n",
    "        rating = 'B'\n",
    "    # TODO: Add more conditions for C, D, F\n",
    "    elif intensity < 150:\n",
    "        rating = 'C' \n",
    "    elif intensity < 200:\n",
    "        rating = 'D' \n",
    "    else:\n",
    "        rating = 'F'  \n",
    "    \n",
    "    ratings.append(rating)\n",
    "\n",
    "# TODO: Print formatted report\n",
    "print(\"\\n\" + \"=\" * 60)\n",
    "print(\"Energy Efficiency Report\")\n",
    "print(\"=\" * 60)\n",
    "for i, building in enumerate(buildings):\n",
    "    print(f\"{building}: {annual_intensity[i]:.2f} kWh/m^2/year - Rating: {ratings[i]}\")"
   ]
  },
  {
   "cell_type": "markdown",
   "metadata": {},
   "source": [
    "### Part C: Rating Summary (5 points)"
   ]
  },
  {
   "cell_type": "code",
   "execution_count": 17,
   "metadata": {},
   "outputs": [
    {
     "name": "stdout",
     "output_type": "stream",
     "text": [
      "\n",
      "Rating Summary:\n",
      "  A (Excellent): 0\n",
      "  B (Good): 0\n",
      "  C (Average): 0\n",
      "  D (Poor): 1\n",
      "  F (Very Poor): 4\n",
      "\n",
      "Most common rating: F\n"
     ]
    }
   ],
   "source": [
    "# Exercise 3C: Rating Summary\n",
    "\n",
    "# TODO: Count buildings in each rating category\n",
    "count_a = ratings.count('A')\n",
    "count_b = ratings.count('B')\n",
    "count_c = ratings.count('C')\n",
    "count_d = ratings.count('D')\n",
    "count_f = ratings.count('F')\n",
    "\n",
    "# TODO: Print summary\n",
    "print(\"\\nRating Summary:\")\n",
    "print(f\"  A (Excellent): {count_a}\")\n",
    "# Add more ratings\n",
    "print(f\"  B (Good): {count_b}\")\n",
    "print(f\"  C (Average): {count_c}\")\n",
    "print(f\"  D (Poor): {count_d}\")\n",
    "print(f\"  F (Very Poor): {count_f}\")\n",
    "\n",
    "# TODO: Find most common rating\n",
    "rating_counts = {\n",
    "    'A': count_a,\n",
    "    'B': count_b,\n",
    "    'C': count_c,\n",
    "    'D': count_d,\n",
    "    'F': count_f\n",
    "}\n",
    "most_common_rating = max(rating_counts, key=rating_counts.get)\n",
    "print(f\"\\nMost common rating: {most_common_rating}\")\n",
    "\n",
    "# Hint: You can create a dictionary or compare counts\n"
   ]
  },
  {
   "cell_type": "markdown",
   "metadata": {},
   "source": [
    "---\n",
    "\n",
    "## Exercise 4: Energy Cost Calculator (20 points)\n",
    "\n",
    "### Part A: Simple Cost Function (8 points)"
   ]
  },
  {
   "cell_type": "code",
   "execution_count": 18,
   "metadata": {},
   "outputs": [
    {
     "name": "stdout",
     "output_type": "stream",
     "text": [
      "Monthly cost for 50000 kWh at $0.12/kWh: $6,000.00\n"
     ]
    }
   ],
   "source": [
    "# Exercise 4A: Simple Cost Function\n",
    "\n",
    "def calculate_monthly_cost(consumption_kwh, rate_per_kwh):\n",
    "    \"\"\"\n",
    "    Calculate monthly energy cost.\n",
    "    \n",
    "    Parameters:\n",
    "        consumption_kwh (float): Monthly energy consumption in kWh\n",
    "        rate_per_kwh (float): Energy rate in USD/kWh\n",
    "    \n",
    "    Returns:\n",
    "        float: Monthly cost in USD\n",
    "    \"\"\"\n",
    "    # TODO: Calculate and return cost\n",
    "    cost = consumption_kwh * rate_per_kwh\n",
    "    return cost\n",
    "\n",
    "# TODO: Test the function\n",
    "test_consumption = 50000  # kWh\n",
    "test_rate = 0.12  # USD/kWh\n",
    "result = calculate_monthly_cost(test_consumption, test_rate)\n",
    "print(f\"Monthly cost for {test_consumption} kWh at ${test_rate}/kWh: ${result:,.2f}\")"
   ]
  },
  {
   "cell_type": "markdown",
   "metadata": {},
   "source": [
    "### Part B: Peak/Off-Peak Cost Function (12 points)"
   ]
  },
  {
   "cell_type": "code",
   "execution_count": 19,
   "metadata": {},
   "outputs": [
    {
     "name": "stdout",
     "output_type": "stream",
     "text": [
      "\n",
      "Tiered Pricing Analysis for 85000 kWh:\n",
      "  Peak cost (60%): $7,650.00\n",
      "  Off-peak cost (40%): $2,720.00\n",
      "  Total cost: $10,370.00\n"
     ]
    }
   ],
   "source": [
    "# Exercise 4B: Peak/Off-Peak Cost Function\n",
    "\n",
    "def calculate_tiered_cost(total_consumption, peak_percentage=0.6):\n",
    "    \"\"\"\n",
    "    Calculate cost with peak/off-peak pricing.\n",
    "    \n",
    "    Parameters:\n",
    "        total_consumption (float): Total monthly consumption in kWh\n",
    "        peak_percentage (float): Fraction of consumption during peak hours (default 0.6)\n",
    "    \n",
    "    Returns:\n",
    "        tuple: (peak_cost, off_peak_cost, total_cost)\n",
    "    \"\"\"\n",
    "    peak_rate = 0.15  # USD/kWh\n",
    "    off_peak_rate = 0.08  # USD/kWh\n",
    "    \n",
    "    # TODO: Calculate peak consumption\n",
    "    peak_consumption = total_consumption * peak_percentage\n",
    "    \n",
    "    # TODO: Calculate off-peak consumption\n",
    "    off_peak_consumption = total_consumption * (1 - peak_percentage)\n",
    "    \n",
    "    # TODO: Calculate costs\n",
    "    peak_cost = peak_consumption * peak_rate\n",
    "    off_peak_cost = off_peak_consumption * off_peak_rate\n",
    "    total_cost = peak_cost + off_peak_cost\n",
    "    \n",
    "    return peak_cost, off_peak_cost, total_cost\n",
    "\n",
    "# TODO: Test the function\n",
    "test_consumption = 85000  # kWh\n",
    "peak_cost, off_peak_cost, total_cost = calculate_tiered_cost(test_consumption, 0.6)\n",
    "\n",
    "print(f\"\\nTiered Pricing Analysis for {test_consumption} kWh:\")\n",
    "print(f\"  Peak cost (60%): ${peak_cost:,.2f}\")\n",
    "print(f\"  Off-peak cost (40%): ${off_peak_cost:,.2f}\")\n",
    "print(f\"  Total cost: ${total_cost:,.2f}\")"
   ]
  },
  {
   "cell_type": "markdown",
   "metadata": {},
   "source": [
    "---\n",
    "\n",
    "## Exercise 5: Challenge - Energy Optimization (10 points)\n",
    "\n",
    "### Part A: Most and Least Efficient Buildings (5 points)"
   ]
  },
  {
   "cell_type": "code",
   "execution_count": 21,
   "metadata": {},
   "outputs": [
    {
     "name": "stdout",
     "output_type": "stream",
     "text": [
      "============================================================\n",
      "Efficiency Comparison\n",
      "============================================================\n",
      "Most efficient: School C\n",
      "  Intensity: 180.00 kWh/m^2/year\n",
      "  Rating: D\n",
      "\n",
      "Least efficient: Retail B\n",
      "  Intensity: 413.33 kWh/m^2/year\n",
      "  Rating: F\n",
      "\n",
      "Percentage difference: 129.63%\n"
     ]
    }
   ],
   "source": [
    "# Exercise 5A: Most and Least Efficient\n",
    "\n",
    "# TODO: Find minimum and maximum annual intensity\n",
    "min_intensity = min(annual_intensity)\n",
    "max_intensity = max(annual_intensity)\n",
    "\n",
    "# TODO: Find which buildings these correspond to\n",
    "min_index = annual_intensity.index(min_intensity)\n",
    "max_index = annual_intensity.index(max_intensity)\n",
    "\n",
    "# TODO: Get building names\n",
    "most_efficient = buildings[min_index]\n",
    "least_efficient = buildings[max_index]\n",
    "\n",
    "# TODO: Print results\n",
    "print(\"=\" * 60)\n",
    "print(\"Efficiency Comparison\")\n",
    "print(\"=\" * 60)\n",
    "print(f\"Most efficient: {most_efficient}\")\n",
    "print(f\"  Intensity: {min_intensity:.2f} kWh/m^2/year\")\n",
    "print(f\"  Rating: {ratings[min_index]}\")\n",
    "# Add least efficient\n",
    "print(f\"\\nLeast efficient: {least_efficient}\")\n",
    "print(f\"  Intensity: {max_intensity:.2f} kWh/m^2/year\")\n",
    "print(f\"  Rating: {ratings[max_index]}\")\n",
    "\n",
    "# TODO: Calculate percentage difference\n",
    "percentage_diff = ((max_intensity - min_intensity) / min_intensity) * 100\n",
    "print(f\"\\nPercentage difference: {percentage_diff:.2f}%\")"
   ]
  },
  {
   "cell_type": "markdown",
   "metadata": {},
   "source": [
    "### Part B: Energy Savings Potential (5 points)\n",
    "\n",
    "Calculate savings if all buildings achieved Rating B (100 kWh/m²/year)."
   ]
  },
  {
   "cell_type": "code",
   "execution_count": 23,
   "metadata": {},
   "outputs": [
    {
     "name": "stdout",
     "output_type": "stream",
     "text": [
      "\n",
      "============================================================\n",
      "Energy Savings Potential\n",
      "============================================================\n",
      "Target: Rating B (100 kWh/m^2/year)\n",
      "\n",
      "Office A: Could save 770,000.00 kWh/year\n",
      "Retail B: Could save 564,000.00 kWh/year\n",
      "School C: Could save 256,000.00 kWh/year\n",
      "Hospital D: Could save 1,100,000.00 kWh/year\n",
      "Apartment E: Could save 572,000.00 kWh/year\n",
      "\n",
      "Total Potential Savings: 3,262,000.00 kWh/year\n",
      "Annual Cost Savings: $391,440.00\n"
     ]
    }
   ],
   "source": [
    "# Exercise 5B: Energy Savings Potential\n",
    "\n",
    "target_intensity = 100  # kWh/m^2/year for Rating B\n",
    "total_savings_kwh = 0\n",
    "\n",
    "print(\"\\n\" + \"=\" * 60)\n",
    "print(\"Energy Savings Potential\")\n",
    "print(\"=\" * 60)\n",
    "print(f\"Target: Rating B ({target_intensity} kWh/m^2/year)\\n\")\n",
    "\n",
    "# TODO: Loop through buildings and calculate savings\n",
    "for i, building in enumerate(buildings):\n",
    "    # Check if building has worse rating than B (C, D, or F)\n",
    "    if annual_intensity[i] > target_intensity:\n",
    "        # Calculate current annual consumption\n",
    "        current_consumption = annual_intensity[i] * floor_area[i]\n",
    "        \n",
    "        # Calculate target consumption\n",
    "        target_consumption = target_intensity * floor_area[i]\n",
    "        \n",
    "        # Calculate savings\n",
    "        savings = current_consumption - target_consumption\n",
    "        \n",
    "        # Add to total\n",
    "        total_savings_kwh += savings\n",
    "        \n",
    "        print(f\"{building}: Could save {savings:,.2f} kWh/year\")\n",
    "\n",
    "# TODO: Calculate cost savings\n",
    "cost_savings = total_savings_kwh * 0.12  # Standard rate\n",
    "\n",
    "print(f\"\\nTotal Potential Savings: {total_savings_kwh:,.2f} kWh/year\")\n",
    "print(f\"Annual Cost Savings: ${cost_savings:,.2f}\")"
   ]
  },
  {
   "cell_type": "markdown",
   "metadata": {},
   "source": [
    "---\n",
    "\n",
    "## Bonus Challenge (Optional, +5 points)\n",
    "\n",
    "Create an interactive energy calculator that gets user input."
   ]
  },
  {
   "cell_type": "code",
   "execution_count": null,
   "metadata": {},
   "outputs": [
    {
     "name": "stdout",
     "output_type": "stream",
     "text": [
      "Interactive Building Energy Calculator\n",
      "============================================================\n"
     ]
    }
   ],
   "source": [
    "print(\"Interactive Building Energy Calculator\")\n",
    "print(\"=\" * 60)\n",
    "\n",
    "while True:\n",
    "    # Get user input\n",
    "    name = input(\"\\nEnter building name (or 'quit' to exit): \")\n",
    "\n",
    "    if name.lower() == 'quit':\n",
    "        print(\"\\nThank you for using the calculator!\")\n",
    "        break\n",
    "\n",
    "    try:\n",
    "        # Get consumption and area from user\n",
    "        total_consumption = float(input(\"Enter total annual consumption (kWh): \"))\n",
    "        area = float(input(\"Enter floor area (m²): \"))\n",
    "\n",
    "        # Check for valid positive inputs\n",
    "        if total_consumption <= 0 or area <= 0:\n",
    "            raise ValueError(\"Values must be positive numbers.\")\n",
    "\n",
    "        # Perform calculations\n",
    "        intensity = total_consumption / area  # kWh/m²/year\n",
    "\n",
    "        # Determine efficiency rating\n",
    "        if intensity < 50:\n",
    "            rating = \"A\"\n",
    "        elif intensity < 100:\n",
    "            rating = \"B\"\n",
    "        elif intensity < 150:\n",
    "            rating = \"C\"\n",
    "        elif intensity < 200:\n",
    "            rating = \"D\"\n",
    "        else:\n",
    "            rating = \"F\"\n",
    "\n",
    "        # Cost calculations\n",
    "        rate = 0.12  # USD/kWh\n",
    "        annual_cost = total_consumption * rate\n",
    "        monthly_cost = annual_cost / 12\n",
    "\n",
    "        # Print formatted report\n",
    "        print(\"\\n--- Energy Performance Report ---\")\n",
    "        print(f\"Building: {name}\")\n",
    "        print(f\"Total Consumption: {total_consumption:,.2f} kWh/year\")\n",
    "        print(f\"Floor Area: {area:,.2f} m²\")\n",
    "        print(f\"Energy Intensity: {intensity:.2f} kWh/m²/year\")\n",
    "        print(f\"Efficiency Rating: {rating}\")\n",
    "        print(f\"Estimated Monthly Cost: ${monthly_cost:,.2f}\")\n",
    "        print(f\"Estimated Annual Cost: ${annual_cost:,.2f}\")\n",
    "        print(\"-\" * 40)\n",
    "\n",
    "    except ValueError:\n",
    "        print(\"Error: Enter a valid number (only positive numeric values are allowed).\")\n"
   ]
  },
  {
   "cell_type": "markdown",
   "metadata": {},
   "source": [
    "---\n",
    "\n",
    "## Reflection Questions\n",
    "\n",
    "Answer these questions in the markdown cell below:\n",
    "\n",
    "1. What was the most challenging part of this lab?\n",
    "2. How could energy efficiency analysis help civil engineers in real projects?\n",
    "3. What additional features would make this calculator more useful?"
   ]
  },
  {
   "cell_type": "markdown",
   "metadata": {},
   "source": [
    "### Your Answers:\n",
    "\n",
    "1. The most challenging part of this lab was implementing proper error handling in the interactive calculator. I initially thought that the string inside raise ValueError() would be shown directly as output, but after several trials I learned that its main purpose is to help developers understand and debug the code more easily, not necessarily to display messages to the user. Understanding how to combine raise and try/except correctly to give clear feedback to the user was both challenging and insightful.\n",
    "\n",
    "2. Energy efficiency analysis helps civil engineers to design and operate buildings that use energy more efficiently. By calculating energy intensity, they can determine inefficient systems, choose better materials, increase the use of renewable energy sources and thus, they optimize the building energy consumption. This leads to lower operational costs, reduced environmental impact, and improved sustainability performance of civil engineering projects.\n",
    "\n",
    "3. After the energy consumption and intensity analyses are conducted, recommendations from civil engineers can be added to make energy consumption more efficient. This will allow all users of the this calculator to easily access specific information and optimize their own energy usage. \n"
   ]
  },
  {
   "cell_type": "markdown",
   "metadata": {},
   "source": [
    "---\n",
    "\n",
    "## Submission Checklist\n",
    "\n",
    "Before submitting, make sure:\n",
    "- [ ] All code cells have been executed and show outputs\n",
    "- [ ] All TODO items have been completed\n",
    "- [ ] Code includes comments explaining your logic\n",
    "- [ ] Output is formatted clearly with appropriate decimal places\n",
    "- [ ] Reflection questions are answered\n",
    "- [ ] File is saved as `lab01_energy_calculator.ipynb`\n",
    "\n",
    "**Good luck! 🌟**"
   ]
  }
 ],
 "metadata": {
  "kernelspec": {
   "display_name": "Python 3 (ipykernel)",
   "language": "python",
   "name": "python3"
  },
  "language_info": {
   "codemirror_mode": {
    "name": "ipython",
    "version": 3
   },
   "file_extension": ".py",
   "mimetype": "text/x-python",
   "name": "python",
   "nbconvert_exporter": "python",
   "pygments_lexer": "ipython3",
   "version": "3.13.5"
  }
 },
 "nbformat": 4,
 "nbformat_minor": 4
}
